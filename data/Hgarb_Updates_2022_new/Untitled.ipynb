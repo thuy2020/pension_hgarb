{
 "cells": [
  {
   "cell_type": "code",
   "execution_count": 1,
   "id": "f6c77ef1",
   "metadata": {},
   "outputs": [
    {
     "name": "stdout",
     "output_type": "stream",
     "text": [
      "Search Results\n",
      "2020 United States presidential election - Wikipedia\n",
      "President of India - Wikipedia\n",
      "Presidential Election Results and Electoral Map 2020 - CNN\n",
      "Presidential Election Process | USAGov\n",
      "President of India (Article 52-62) - President Elections, Powers ...\n",
      "2020 Presidential Election Results: Joe Biden Wins - The New ...\n",
      "US Election 2020: US Election Date, Results and Presidential ...\n",
      "presidential election: Latest News & Videos, Photos about ...\n",
      "United States Presidential Election Results | Britannica\n"
     ]
    }
   ],
   "source": [
    "import urllib\n",
    "import requests\n",
    "import json\n",
    "\n",
    "headers = {\n",
    "    \"x-rapidapi-key\": \"9521bb2c05msh6337ec023f75fcbp19f254jsn300056d7dab2\",\n",
    "    \"x-rapidapi-host\": \"google-search3.p.rapidapi.com\"\n",
    "}\n",
    "\n",
    "query = {\n",
    "    \"q\": \"president election\"\n",
    "}\n",
    "\n",
    "resp = requests.get(\"https://rapidapi.p.rapidapi.com/api/v1/search/\" + urllib.parse.urlencode(query), headers=headers)\n",
    "\n",
    "results = resp.json()\n",
    "# print(results)\n",
    "\n",
    "res = results['results']\n",
    "\n",
    "print(\"Search Results\")\n",
    "for text in res:\n",
    "    print(text['title'])"
   ]
  },
  {
   "cell_type": "code",
   "execution_count": null,
   "id": "a299aebb",
   "metadata": {},
   "outputs": [],
   "source": []
  }
 ],
 "metadata": {
  "kernelspec": {
   "display_name": "Python 3",
   "language": "python",
   "name": "python3"
  },
  "language_info": {
   "codemirror_mode": {
    "name": "ipython",
    "version": 3
   },
   "file_extension": ".py",
   "mimetype": "text/x-python",
   "name": "python",
   "nbconvert_exporter": "python",
   "pygments_lexer": "ipython3",
   "version": "3.7.6"
  }
 },
 "nbformat": 4,
 "nbformat_minor": 5
}
